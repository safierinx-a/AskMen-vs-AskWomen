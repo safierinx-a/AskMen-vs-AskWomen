{
 "cells": [
  {
   "cell_type": "markdown",
   "metadata": {},
   "source": [
    "### Scraper for Analysis of r/AskMen and r/AskWomen\n",
    "I'll be using PRAW to extract top posts and comments from r/AskMen and r/AskWomen in order to take a look at the text contained within and see if there are any interesting trends to be seen"
   ]
  },
  {
   "cell_type": "code",
   "execution_count": 6,
   "metadata": {},
   "outputs": [],
   "source": [
    "import praw\n",
    "\n",
    "reddit = praw.Reddit(client_id='UMhaB4m4h2LgbA',\n",
    "                     client_secret='4m4ISJ1L5Jw6ji9bXBM6INOnn0Y',\n",
    "                     user_agent='AskMen_vs_AskWomen_safierinx',\n",
    "                     username='safierinx',\n",
    "                     password='Controls16!')\n"
   ]
  },
  {
   "cell_type": "markdown",
   "metadata": {},
   "source": [
    "Having initialized the Reddit instance using PRAW( The Python Reddit API Wrapper), I should now open the subreddits and collect the top 500 posts for the past month and all off the sub comments. I've decided to only go 5 layers deep into the comments to make computations faster."
   ]
  },
  {
   "cell_type": "code",
   "execution_count": 7,
   "metadata": {},
   "outputs": [],
   "source": [
    "import pandas as pd\n",
    "from tqdm import tqdm\n",
    "s = commentext('AskMen')\n",
    "AskMen = pd.DataFrame(s, columns = ['Text'])\n",
    "\n",
    "s = commentext('AskWomen')\n",
    "AskWomen = pd.DataFrame(s, columns = ['Text'])"
   ]
  },
  {
   "cell_type": "code",
   "execution_count": 9,
   "metadata": {},
   "outputs": [],
   "source": [
    "s = titles('AskMen')\n",
    "AskMenT = pd.DataFrame(s, columns = ['Text'])\n",
    "\n",
    "s = titles('AskWomen')\n",
    "AskWomenT = pd.DataFrame(s, columns = ['Text'])"
   ]
  },
  {
   "cell_type": "code",
   "execution_count": 2,
   "metadata": {},
   "outputs": [],
   "source": [
    "def commentext(sub):\n",
    "    s= []\n",
    "    subreddit = reddit.subreddit(sub)\n",
    "    for i in subreddit.top(time_filter = 'month', limit = 1000):\n",
    "        i.comments.replace_more(limit=15)\n",
    "        comment_queue = i.comments[:]  # Seed with top-level\n",
    "        while comment_queue:\n",
    "            comment = comment_queue.pop(0)\n",
    "            try:\n",
    "                s.append(comment.body)\n",
    "            except:\n",
    "                n = 1\n",
    "            comment_queue.extend(comment.replies)\n",
    "    return s\n",
    "def titles(sub):\n",
    "    s= []\n",
    "    subreddit = reddit.subreddit(sub)\n",
    "    for i in subreddit.top(time_filter = 'month', limit = 1000):\n",
    "        s.append(i.title)\n",
    "    return s"
   ]
  },
  {
   "cell_type": "code",
   "execution_count": 5,
   "metadata": {},
   "outputs": [],
   "source": [
    "AskMen.to_csv(\"F:/AskMen.csv\")\n",
    "AskWomen.to_csv(\"F:/AskWomen.csv\")\n",
    "AskMenT.to_csv(\"F:/AskMenTitles.csv\")\n",
    "AskWomenT.to_csv(\"F:/AskWomenTitles.csv\")"
   ]
  },
  {
   "cell_type": "code",
   "execution_count": 8,
   "metadata": {},
   "outputs": [
    {
     "data": {
      "text/html": [
       "<div>\n",
       "<style scoped>\n",
       "    .dataframe tbody tr th:only-of-type {\n",
       "        vertical-align: middle;\n",
       "    }\n",
       "\n",
       "    .dataframe tbody tr th {\n",
       "        vertical-align: top;\n",
       "    }\n",
       "\n",
       "    .dataframe thead th {\n",
       "        text-align: right;\n",
       "    }\n",
       "</style>\n",
       "<table border=\"1\" class=\"dataframe\">\n",
       "  <thead>\n",
       "    <tr style=\"text-align: right;\">\n",
       "      <th></th>\n",
       "      <th>Text</th>\n",
       "    </tr>\n",
       "  </thead>\n",
       "  <tbody>\n",
       "    <tr>\n",
       "      <th>0</th>\n",
       "      <td>[removed]</td>\n",
       "    </tr>\n",
       "    <tr>\n",
       "      <th>1</th>\n",
       "      <td>I'm considered one of the best presenter in ou...</td>\n",
       "    </tr>\n",
       "    <tr>\n",
       "      <th>2</th>\n",
       "      <td>Are they cruel to you? Typically most managers...</td>\n",
       "    </tr>\n",
       "    <tr>\n",
       "      <th>3</th>\n",
       "      <td>I detach myself from caring about the outcome ...</td>\n",
       "    </tr>\n",
       "    <tr>\n",
       "      <th>4</th>\n",
       "      <td>Do more things outside your comfort zone.</td>\n",
       "    </tr>\n",
       "    <tr>\n",
       "      <th>...</th>\n",
       "      <td>...</td>\n",
       "    </tr>\n",
       "    <tr>\n",
       "      <th>81377</th>\n",
       "      <td>Then it must be so. I meant it from a hormonal...</td>\n",
       "    </tr>\n",
       "    <tr>\n",
       "      <th>81378</th>\n",
       "      <td>There's a week or so recovery period. Beyond t...</td>\n",
       "    </tr>\n",
       "    <tr>\n",
       "      <th>81379</th>\n",
       "      <td>Good to know. Thanks for taking the time to an...</td>\n",
       "    </tr>\n",
       "    <tr>\n",
       "      <th>81380</th>\n",
       "      <td>No problem. Sorry if the first bit came off pr...</td>\n",
       "    </tr>\n",
       "    <tr>\n",
       "      <th>81381</th>\n",
       "      <td>Heh heh. No need to apologize. I can see how t...</td>\n",
       "    </tr>\n",
       "  </tbody>\n",
       "</table>\n",
       "<p>81382 rows × 1 columns</p>\n",
       "</div>"
      ],
      "text/plain": [
       "                                                    Text\n",
       "0                                              [removed]\n",
       "1      I'm considered one of the best presenter in ou...\n",
       "2      Are they cruel to you? Typically most managers...\n",
       "3      I detach myself from caring about the outcome ...\n",
       "4              Do more things outside your comfort zone.\n",
       "...                                                  ...\n",
       "81377  Then it must be so. I meant it from a hormonal...\n",
       "81378  There's a week or so recovery period. Beyond t...\n",
       "81379  Good to know. Thanks for taking the time to an...\n",
       "81380  No problem. Sorry if the first bit came off pr...\n",
       "81381  Heh heh. No need to apologize. I can see how t...\n",
       "\n",
       "[81382 rows x 1 columns]"
      ]
     },
     "execution_count": 8,
     "metadata": {},
     "output_type": "execute_result"
    }
   ],
   "source": [
    "AskMen"
   ]
  }
 ],
 "metadata": {
  "kernelspec": {
   "display_name": "Python 3",
   "language": "python",
   "name": "python3"
  },
  "language_info": {
   "codemirror_mode": {
    "name": "ipython",
    "version": 3
   },
   "file_extension": ".py",
   "mimetype": "text/x-python",
   "name": "python",
   "nbconvert_exporter": "python",
   "pygments_lexer": "ipython3",
   "version": "3.7.6"
  }
 },
 "nbformat": 4,
 "nbformat_minor": 4
}
